{
 "cells": [
  {
   "cell_type": "markdown",
   "id": "44592cb7-dba8-4a7e-892c-71fd215584da",
   "metadata": {},
   "source": [
    "# 2.5 Visual Applications of Machine Learning - Handwriting Recognition"
   ]
  },
  {
   "cell_type": "markdown",
   "id": "b0708538-b3ec-438c-9ee0-7a5e30959884",
   "metadata": {},
   "source": [
    "### Table of Contents  \n",
    "1. Importing Libraries  \n",
    "2. Training the model on the MNIST data set  \n",
    "3. Loading and Pre-processing Handwritten Data  \n",
    "4. Testing with Real Data  "
   ]
  },
  {
   "cell_type": "markdown",
   "id": "0f1fbbfa-e9f9-4b57-af2a-30bd7fcf070a",
   "metadata": {},
   "source": [
    "### 1Importing Libraries"
   ]
  },
  {
   "cell_type": "code",
   "execution_count": 77,
   "id": "0fef0755-dd4a-4aa4-b629-b5dc31c52424",
   "metadata": {},
   "outputs": [],
   "source": [
    "# Loading Libraries\n",
    "\n",
    "import pandas as pd\n",
    "import numpy as np\n",
    "import seaborn as sns\n",
    "import os\n",
    "import operator\n",
    "import matplotlib.pyplot as plt\n",
    "\n",
    "from sklearn.preprocessing import LabelEncoder\n",
    "from sklearn.metrics import confusion_matrix\n",
    "\n",
    "import tensorflow as tf\n",
    "from numpy import unique, reshape, argmax, asarray\n",
    "\n",
    "# Use TensorFlow's bundled Keras instead of standalone Keras to avoid import errors (e.g. 'keras.layers.core' not found)\n",
    "from tensorflow.keras.models import Sequential\n",
    "from tensorflow.keras.layers import Conv2D, Dense, BatchNormalization, Flatten, MaxPooling2D, Activation, Dropout\n",
    "from tensorflow.keras.utils import to_categorical\n",
    "from tensorflow.keras.datasets import mnist\n",
    "from tensorflow.keras import Input\n",
    "\n",
    "from PIL import Image"
   ]
  },
  {
   "cell_type": "code",
   "execution_count": 35,
   "id": "899c14e1-0ccf-4647-8ce2-28ae0ac80be9",
   "metadata": {},
   "outputs": [],
   "source": [
    "# Sets random seed for reproducibility; ensures consistent results across runs\n",
    "\n",
    "tf.random.set_seed(42)"
   ]
  },
  {
   "cell_type": "code",
   "execution_count": 36,
   "id": "356e680d-2ebc-440c-acd0-c64a7c5d02ce",
   "metadata": {},
   "outputs": [],
   "source": [
    "# Loading and exploring the MNIST dataset\n",
    "\n",
    "hand = mnist.load_data()"
   ]
  },
  {
   "cell_type": "code",
   "execution_count": 37,
   "id": "84bab9e1-281d-4ea5-8551-79a94196052e",
   "metadata": {
    "scrolled": true
   },
   "outputs": [
    {
     "data": {
      "text/plain": [
       "(array([[[0, 0, 0, ..., 0, 0, 0],\n",
       "         [0, 0, 0, ..., 0, 0, 0],\n",
       "         [0, 0, 0, ..., 0, 0, 0],\n",
       "         ...,\n",
       "         [0, 0, 0, ..., 0, 0, 0],\n",
       "         [0, 0, 0, ..., 0, 0, 0],\n",
       "         [0, 0, 0, ..., 0, 0, 0]],\n",
       " \n",
       "        [[0, 0, 0, ..., 0, 0, 0],\n",
       "         [0, 0, 0, ..., 0, 0, 0],\n",
       "         [0, 0, 0, ..., 0, 0, 0],\n",
       "         ...,\n",
       "         [0, 0, 0, ..., 0, 0, 0],\n",
       "         [0, 0, 0, ..., 0, 0, 0],\n",
       "         [0, 0, 0, ..., 0, 0, 0]],\n",
       " \n",
       "        [[0, 0, 0, ..., 0, 0, 0],\n",
       "         [0, 0, 0, ..., 0, 0, 0],\n",
       "         [0, 0, 0, ..., 0, 0, 0],\n",
       "         ...,\n",
       "         [0, 0, 0, ..., 0, 0, 0],\n",
       "         [0, 0, 0, ..., 0, 0, 0],\n",
       "         [0, 0, 0, ..., 0, 0, 0]],\n",
       " \n",
       "        ...,\n",
       " \n",
       "        [[0, 0, 0, ..., 0, 0, 0],\n",
       "         [0, 0, 0, ..., 0, 0, 0],\n",
       "         [0, 0, 0, ..., 0, 0, 0],\n",
       "         ...,\n",
       "         [0, 0, 0, ..., 0, 0, 0],\n",
       "         [0, 0, 0, ..., 0, 0, 0],\n",
       "         [0, 0, 0, ..., 0, 0, 0]],\n",
       " \n",
       "        [[0, 0, 0, ..., 0, 0, 0],\n",
       "         [0, 0, 0, ..., 0, 0, 0],\n",
       "         [0, 0, 0, ..., 0, 0, 0],\n",
       "         ...,\n",
       "         [0, 0, 0, ..., 0, 0, 0],\n",
       "         [0, 0, 0, ..., 0, 0, 0],\n",
       "         [0, 0, 0, ..., 0, 0, 0]],\n",
       " \n",
       "        [[0, 0, 0, ..., 0, 0, 0],\n",
       "         [0, 0, 0, ..., 0, 0, 0],\n",
       "         [0, 0, 0, ..., 0, 0, 0],\n",
       "         ...,\n",
       "         [0, 0, 0, ..., 0, 0, 0],\n",
       "         [0, 0, 0, ..., 0, 0, 0],\n",
       "         [0, 0, 0, ..., 0, 0, 0]]], dtype=uint8),\n",
       " array([5, 0, 4, ..., 5, 6, 8], dtype=uint8))"
      ]
     },
     "execution_count": 37,
     "metadata": {},
     "output_type": "execute_result"
    }
   ],
   "source": [
    "# Accessing the first item from the data\n",
    "\n",
    "hand[0]"
   ]
  },
  {
   "cell_type": "code",
   "execution_count": 38,
   "id": "de980673-150f-4939-956d-5080f163d47e",
   "metadata": {},
   "outputs": [],
   "source": [
    "(X_train, y_train), (X_test, y_test) = hand"
   ]
  },
  {
   "cell_type": "code",
   "execution_count": 55,
   "id": "d1eb1fb2-e5a9-46c8-aa65-f6291ba73043",
   "metadata": {},
   "outputs": [],
   "source": [
    "np.set_printoptions(edgeitems=3)  # Limits the number of edge items shown when printing large arrays (shows 3 items at each end)\n",
    "np.core.arrayprint._line_width = 180000  # Increases the maximum line width to prevent NumPy from wrapping output across multiple lines"
   ]
  },
  {
   "cell_type": "code",
   "execution_count": 40,
   "id": "2c2c2ec0-6a30-4f0f-a9e6-2245723adf7c",
   "metadata": {
    "scrolled": true
   },
   "outputs": [
    {
     "data": {
      "text/plain": [
       "array([[  0,   0,   0,   0,   0,   0,   0,   0,   0,   0,   0,   0,   0,\n",
       "          0,   0,   0,   0,   0,   0,   0,   0,   0,   0,   0,   0,   0,\n",
       "          0,   0],\n",
       "       [  0,   0,   0,   0,   0,   0,   0,   0,   0,   0,   0,   0,   0,\n",
       "          0,   0,   0,   0,   0,   0,   0,   0,   0,   0,   0,   0,   0,\n",
       "          0,   0],\n",
       "       [  0,   0,   0,   0,   0,   0,   0,   0,   0,   0,   0,   0,   0,\n",
       "          0,   0,   0,   0,   0,   0,   0,   0,   0,   0,   0,   0,   0,\n",
       "          0,   0],\n",
       "       [  0,   0,   0,   0,   0,   0,   0,   0,   0,   0,   0,   0,   0,\n",
       "          0,   0,   0,   0,   0,   0,   0,   0,   0,   0,   0,   0,   0,\n",
       "          0,   0],\n",
       "       [  0,   0,   0,   0,   0,   0,   0,   0,   0,   0,   0,   0,   0,\n",
       "          0,   0,   0,   0,   0,   0,   0,   0,   0,   0,   0,   0,   0,\n",
       "          0,   0],\n",
       "       [  0,   0,   0,   0,   0,   0,   0,   0,   0,   0,   0,   0,   3,\n",
       "         18,  18,  18, 126, 136, 175,  26, 166, 255, 247, 127,   0,   0,\n",
       "          0,   0],\n",
       "       [  0,   0,   0,   0,   0,   0,   0,   0,  30,  36,  94, 154, 170,\n",
       "        253, 253, 253, 253, 253, 225, 172, 253, 242, 195,  64,   0,   0,\n",
       "          0,   0],\n",
       "       [  0,   0,   0,   0,   0,   0,   0,  49, 238, 253, 253, 253, 253,\n",
       "        253, 253, 253, 253, 251,  93,  82,  82,  56,  39,   0,   0,   0,\n",
       "          0,   0],\n",
       "       [  0,   0,   0,   0,   0,   0,   0,  18, 219, 253, 253, 253, 253,\n",
       "        253, 198, 182, 247, 241,   0,   0,   0,   0,   0,   0,   0,   0,\n",
       "          0,   0],\n",
       "       [  0,   0,   0,   0,   0,   0,   0,   0,  80, 156, 107, 253, 253,\n",
       "        205,  11,   0,  43, 154,   0,   0,   0,   0,   0,   0,   0,   0,\n",
       "          0,   0],\n",
       "       [  0,   0,   0,   0,   0,   0,   0,   0,   0,  14,   1, 154, 253,\n",
       "         90,   0,   0,   0,   0,   0,   0,   0,   0,   0,   0,   0,   0,\n",
       "          0,   0],\n",
       "       [  0,   0,   0,   0,   0,   0,   0,   0,   0,   0,   0, 139, 253,\n",
       "        190,   2,   0,   0,   0,   0,   0,   0,   0,   0,   0,   0,   0,\n",
       "          0,   0],\n",
       "       [  0,   0,   0,   0,   0,   0,   0,   0,   0,   0,   0,  11, 190,\n",
       "        253,  70,   0,   0,   0,   0,   0,   0,   0,   0,   0,   0,   0,\n",
       "          0,   0],\n",
       "       [  0,   0,   0,   0,   0,   0,   0,   0,   0,   0,   0,   0,  35,\n",
       "        241, 225, 160, 108,   1,   0,   0,   0,   0,   0,   0,   0,   0,\n",
       "          0,   0],\n",
       "       [  0,   0,   0,   0,   0,   0,   0,   0,   0,   0,   0,   0,   0,\n",
       "         81, 240, 253, 253, 119,  25,   0,   0,   0,   0,   0,   0,   0,\n",
       "          0,   0],\n",
       "       [  0,   0,   0,   0,   0,   0,   0,   0,   0,   0,   0,   0,   0,\n",
       "          0,  45, 186, 253, 253, 150,  27,   0,   0,   0,   0,   0,   0,\n",
       "          0,   0],\n",
       "       [  0,   0,   0,   0,   0,   0,   0,   0,   0,   0,   0,   0,   0,\n",
       "          0,   0,  16,  93, 252, 253, 187,   0,   0,   0,   0,   0,   0,\n",
       "          0,   0],\n",
       "       [  0,   0,   0,   0,   0,   0,   0,   0,   0,   0,   0,   0,   0,\n",
       "          0,   0,   0,   0, 249, 253, 249,  64,   0,   0,   0,   0,   0,\n",
       "          0,   0],\n",
       "       [  0,   0,   0,   0,   0,   0,   0,   0,   0,   0,   0,   0,   0,\n",
       "          0,  46, 130, 183, 253, 253, 207,   2,   0,   0,   0,   0,   0,\n",
       "          0,   0],\n",
       "       [  0,   0,   0,   0,   0,   0,   0,   0,   0,   0,   0,   0,  39,\n",
       "        148, 229, 253, 253, 253, 250, 182,   0,   0,   0,   0,   0,   0,\n",
       "          0,   0],\n",
       "       [  0,   0,   0,   0,   0,   0,   0,   0,   0,   0,  24, 114, 221,\n",
       "        253, 253, 253, 253, 201,  78,   0,   0,   0,   0,   0,   0,   0,\n",
       "          0,   0],\n",
       "       [  0,   0,   0,   0,   0,   0,   0,   0,  23,  66, 213, 253, 253,\n",
       "        253, 253, 198,  81,   2,   0,   0,   0,   0,   0,   0,   0,   0,\n",
       "          0,   0],\n",
       "       [  0,   0,   0,   0,   0,   0,  18, 171, 219, 253, 253, 253, 253,\n",
       "        195,  80,   9,   0,   0,   0,   0,   0,   0,   0,   0,   0,   0,\n",
       "          0,   0],\n",
       "       [  0,   0,   0,   0,  55, 172, 226, 253, 253, 253, 253, 244, 133,\n",
       "         11,   0,   0,   0,   0,   0,   0,   0,   0,   0,   0,   0,   0,\n",
       "          0,   0],\n",
       "       [  0,   0,   0,   0, 136, 253, 253, 253, 212, 135, 132,  16,   0,\n",
       "          0,   0,   0,   0,   0,   0,   0,   0,   0,   0,   0,   0,   0,\n",
       "          0,   0],\n",
       "       [  0,   0,   0,   0,   0,   0,   0,   0,   0,   0,   0,   0,   0,\n",
       "          0,   0,   0,   0,   0,   0,   0,   0,   0,   0,   0,   0,   0,\n",
       "          0,   0],\n",
       "       [  0,   0,   0,   0,   0,   0,   0,   0,   0,   0,   0,   0,   0,\n",
       "          0,   0,   0,   0,   0,   0,   0,   0,   0,   0,   0,   0,   0,\n",
       "          0,   0],\n",
       "       [  0,   0,   0,   0,   0,   0,   0,   0,   0,   0,   0,   0,   0,\n",
       "          0,   0,   0,   0,   0,   0,   0,   0,   0,   0,   0,   0,   0,\n",
       "          0,   0]], dtype=uint8)"
      ]
     },
     "execution_count": 40,
     "metadata": {},
     "output_type": "execute_result"
    }
   ],
   "source": [
    "X_train[0]"
   ]
  },
  {
   "cell_type": "code",
   "execution_count": 49,
   "id": "8c6053e8-f0ef-498b-8f23-ad3407e80915",
   "metadata": {},
   "outputs": [
    {
     "name": "stdout",
     "output_type": "stream",
     "text": [
      "(60000, 28, 28) (60000,)\n",
      "(10000, 28, 28) (10000,)\n"
     ]
    }
   ],
   "source": [
    "print(X_train.shape, y_train.shape)\n",
    "print(X_test.shape, y_test.shape)"
   ]
  },
  {
   "cell_type": "code",
   "execution_count": 51,
   "id": "ca3c1cf3-dd6d-4eec-9f3f-c7d75bbc04c6",
   "metadata": {},
   "outputs": [
    {
     "data": {
      "text/plain": [
       "array([5, 0, 4, ..., 5, 6, 8], dtype=uint8)"
      ]
     },
     "execution_count": 51,
     "metadata": {},
     "output_type": "execute_result"
    }
   ],
   "source": [
    "y_train"
   ]
  },
  {
   "cell_type": "code",
   "execution_count": 53,
   "id": "9c9e16d2-586e-4ede-b5bc-a555195b9bd7",
   "metadata": {},
   "outputs": [
    {
     "data": {
      "text/plain": [
       "<matplotlib.image.AxesImage at 0x1d509ef3f80>"
      ]
     },
     "execution_count": 53,
     "metadata": {},
     "output_type": "execute_result"
    },
    {
     "data": {
      "image/png": "[encoded data removed]",
      "text/plain": [
       "<Figure size 640x480 with 1 Axes>"
      ]
     },
     "metadata": {},
     "output_type": "display_data"
    }
   ],
   "source": [
    "plt.imshow(X_train[0])"
   ]
  },
  {
   "cell_type": "code",
   "execution_count": 57,
   "id": "edfc3599-6d22-4b32-bb7c-fbb598fa5d02",
   "metadata": {},
   "outputs": [
    {
     "data": {
      "image/png": "[encoded data removed]",
      "text/plain": [
       "<Figure size 750x1000 with 25 Axes>"
      ]
     },
     "metadata": {},
     "output_type": "display_data"
    }
   ],
   "source": [
    "num = 25  # Number of images to display\n",
    "\n",
    "images = X_train[:num]  # Select the first 25 images from the training set\n",
    "labels = y_train[:num]  # Select the corresponding 25 labels\n",
    "\n",
    "num_row = 5  # Number of rows in the plot grid\n",
    "num_col = 5  # Number of columns in the plot grid\n",
    "\n",
    "# Create a 5x5 grid of subplots to display the images\n",
    "fig, axes = plt.subplots(num_row, num_col, figsize=(1.5*num_col, 2*num_row))\n",
    "\n",
    "# Loop through each image and plot it\n",
    "for i in range(num):\n",
    "    ax = axes[i // num_col, i % num_col]  # Find the correct position in the grid\n",
    "    ax.imshow(images[i])  # Display the image (grayscale image by default)\n",
    "    ax.set_title('Label: {}'.format(labels[i]))  # Set the title to show the digit label\n",
    "    ax.axis('off')  # Hide the axis ticks for cleaner look\n",
    "\n",
    "plt.tight_layout()  # Adjust layout to prevent overlap\n",
    "plt.show()  # Display the full 5x5 grid of digit images"
   ]
  },
  {
   "cell_type": "code",
   "execution_count": 59,
   "id": "744c7f79-8971-4bd8-ae9d-508bfef76346",
   "metadata": {},
   "outputs": [],
   "source": [
    "# 5. Preprocess input data\n",
    "\n",
    "X_train = X_train.reshape(X_train.shape[0], 28, 28, 1)  # Reshape training images to 28x28 pixels with 1 channel (grayscale)\n",
    "X_test = X_test.reshape(X_test.shape[0], 28, 28, 1)    # Reshape test images similarly for CNN input compatibility"
   ]
  },
  {
   "cell_type": "code",
   "execution_count": 61,
   "id": "90f4829e-a045-4072-9a8e-ce27d8d06d8d",
   "metadata": {},
   "outputs": [],
   "source": [
    "X_train = X_train.astype('float32')  # Convert training data to float32 for better performance in neural network computations\n",
    "X_test = X_test.astype('float32')    # Convert test data to float32 for consistency and efficiency"
   ]
  },
  {
   "cell_type": "code",
   "execution_count": 63,
   "id": "35924125-b17c-4853-a215-5b5926377a96",
   "metadata": {},
   "outputs": [],
   "source": [
    "X_train /= 255  # Normalize pixel values to range [0, 1] for training stability (original range is 0–255)\n",
    "X_test /= 255   # Normalize test data the same way to match training conditions"
   ]
  },
  {
   "cell_type": "code",
   "execution_count": 67,
   "id": "9f402a22-16e1-4fe3-928e-642ccc036e98",
   "metadata": {},
   "outputs": [],
   "source": [
    "# 6. Preprocess class labels\n",
    "\n",
    "# ERROR FIXED: 'NameError: name 'np_utils' is not defined' occurred because np_utils is deprecated or not imported in tensorflow.keras\n",
    "# FIX: Use to_categorical from tensorflow.keras.utils instead\n",
    "\n",
    "Y_train = to_categorical(y_train, 10)  # Convert training labels to one-hot encoding (e.g., '3' → [0,0,0,1,0,0,0,0,0,0])\n",
    "Y_test = to_categorical(y_test, 10)    # Convert test labels similarly"
   ]
  },
  {
   "cell_type": "code",
   "execution_count": 69,
   "id": "76a54d9e-5f57-4691-b0ab-15e357160202",
   "metadata": {},
   "outputs": [
    {
     "data": {
      "text/plain": [
       "array([[0., 0., 0., ..., 0., 0., 0.],\n",
       "       [1., 0., 0., ..., 0., 0., 0.],\n",
       "       [0., 0., 0., ..., 0., 0., 0.],\n",
       "       ...,\n",
       "       [0., 0., 0., ..., 0., 0., 0.],\n",
       "       [0., 0., 0., ..., 0., 0., 0.],\n",
       "       [0., 0., 0., ..., 0., 1., 0.]])"
      ]
     },
     "execution_count": 69,
     "metadata": {},
     "output_type": "execute_result"
    }
   ],
   "source": [
    "Y_train"
   ]
  },
  {
   "cell_type": "code",
   "execution_count": 71,
   "id": "166b5ba7-8161-48cb-9b3a-ce009b2f116b",
   "metadata": {},
   "outputs": [
    {
     "name": "stdout",
     "output_type": "stream",
     "text": [
      "label:  0  in one-hot representation:  [0 0 0 0 0 1 0 0 0 0]\n",
      "label:  1  in one-hot representation:  [1 0 0 0 0 0 0 0 0 0]\n",
      "label:  2  in one-hot representation:  [0 0 0 0 1 0 0 0 0 0]\n",
      "label:  3  in one-hot representation:  [0 1 0 0 0 0 0 0 0 0]\n",
      "label:  4  in one-hot representation:  [0 0 0 0 0 0 0 0 0 1]\n",
      "label:  5  in one-hot representation:  [0 0 1 0 0 0 0 0 0 0]\n",
      "label:  6  in one-hot representation:  [0 1 0 0 0 0 0 0 0 0]\n",
      "label:  7  in one-hot representation:  [0 0 0 1 0 0 0 0 0 0]\n",
      "label:  8  in one-hot representation:  [0 1 0 0 0 0 0 0 0 0]\n",
      "label:  9  in one-hot representation:  [0 0 0 0 1 0 0 0 0 0]\n"
     ]
    }
   ],
   "source": [
    "# Loop through the first 10 training labels and print their one-hot encoded versions\n",
    "\n",
    "for label in range(10):\n",
    "    one_hot = (Y_train[label]).astype(np.int32)  # Convert from float32 to int32 for cleaner printing\n",
    "    print(\"label: \", label, \" in one-hot representation: \", one_hot)"
   ]
  },
  {
   "cell_type": "markdown",
   "id": "6958f7bb-ea72-4753-b33f-647935285a9e",
   "metadata": {},
   "source": [
    "### 2 Model Training"
   ]
  },
  {
   "cell_type": "code",
   "execution_count": 79,
   "id": "06abc980-dbcb-4412-8249-89ff190a6a6c",
   "metadata": {},
   "outputs": [],
   "source": [
    "# Set training parameters\n",
    "\n",
    "epochs = 30              # Number of training cycles over the entire dataset\n",
    "batch_size = 16          # Number of samples per training batch\n",
    "n_hidden = 32            # Not used here, but could define units in hidden layers if needed\n",
    "\n",
    "# Note: timesteps/input_dim/n_classes are commented out and not needed for CNN-based image classification\n",
    "\n",
    "# 7. Define model architecture\n",
    "model = Sequential()  # Initialize a sequential neural network\n",
    "\n",
    "# First convolutional layer: 32 filters, 3x3 kernel, ReLU activation, input shape for MNIST (28x28x1)\n",
    "model.add(Input(shape=(28,28,1)))  # Explicit input layer\n",
    "model.add(Conv2D(32, (3,3), activation='relu'))\n",
    "\n",
    "# Second convolutional layer: more feature extraction\n",
    "model.add(Conv2D(32, (3,3), activation='relu'))\n",
    "\n",
    "# Downsample with max pooling\n",
    "model.add(MaxPooling2D(pool_size=(2,2)))\n",
    "\n",
    "# Dropout to prevent overfitting (randomly sets 25% of inputs to 0)\n",
    "model.add(Dropout(0.25))\n",
    "\n",
    "# Flatten the 2D feature maps to a 1D feature vector for the dense layers\n",
    "model.add(Flatten())\n",
    "\n",
    "# Fully connected layer with 128 units and ReLU activation\n",
    "model.add(Dense(128, activation='relu'))\n",
    "\n",
    "# Additional dropout to reduce overfitting\n",
    "model.add(Dropout(0.5))\n",
    "\n",
    "# Output layer with 10 units (one per digit) and softmax to give probabilities\n",
    "model.add(Dense(10, activation='softmax'))\n",
    "\n",
    "# 8. Compile model: define loss function, optimizer, and evaluation metric\n",
    "model.compile(loss='categorical_crossentropy', optimizer='adam', metrics=['accuracy'])  # Categorical crossentropy for multi-class classification"
   ]
  },
  {
   "cell_type": "code",
   "execution_count": 81,
   "id": "3a3796fb-7e74-4c09-bdb5-0753760fcd9d",
   "metadata": {},
   "outputs": [
    {
     "name": "stdout",
     "output_type": "stream",
     "text": [
      "Epoch 1/10\n",
      "\u001b[1m1875/1875\u001b[0m \u001b[32m━━━━━━━━━━━━━━━━━━━━\u001b[0m\u001b[37m\u001b[0m \u001b[1m26s\u001b[0m 13ms/step - accuracy: 0.8746 - loss: 0.3896\n",
      "Epoch 2/10\n",
      "\u001b[1m1875/1875\u001b[0m \u001b[32m━━━━━━━━━━━━━━━━━━━━\u001b[0m\u001b[37m\u001b[0m \u001b[1m25s\u001b[0m 13ms/step - accuracy: 0.9752 - loss: 0.0836\n",
      "Epoch 3/10\n",
      "\u001b[1m1875/1875\u001b[0m \u001b[32m━━━━━━━━━━━━━━━━━━━━\u001b[0m\u001b[37m\u001b[0m \u001b[1m27s\u001b[0m 14ms/step - accuracy: 0.9801 - loss: 0.0636\n",
      "Epoch 4/10\n",
      "\u001b[1m1875/1875\u001b[0m \u001b[32m━━━━━━━━━━━━━━━━━━━━\u001b[0m\u001b[37m\u001b[0m \u001b[1m24s\u001b[0m 13ms/step - accuracy: 0.9843 - loss: 0.0527\n",
      "Epoch 5/10\n",
      "\u001b[1m1875/1875\u001b[0m \u001b[32m━━━━━━━━━━━━━━━━━━━━\u001b[0m\u001b[37m\u001b[0m \u001b[1m24s\u001b[0m 13ms/step - accuracy: 0.9867 - loss: 0.0425\n",
      "Epoch 6/10\n",
      "\u001b[1m1875/1875\u001b[0m \u001b[32m━━━━━━━━━━━━━━━━━━━━\u001b[0m\u001b[37m\u001b[0m \u001b[1m27s\u001b[0m 14ms/step - accuracy: 0.9886 - loss: 0.0381\n",
      "Epoch 7/10\n",
      "\u001b[1m1875/1875\u001b[0m \u001b[32m━━━━━━━━━━━━━━━━━━━━\u001b[0m\u001b[37m\u001b[0m \u001b[1m28s\u001b[0m 15ms/step - accuracy: 0.9895 - loss: 0.0348\n",
      "Epoch 8/10\n",
      "\u001b[1m1875/1875\u001b[0m \u001b[32m━━━━━━━━━━━━━━━━━━━━\u001b[0m\u001b[37m\u001b[0m \u001b[1m26s\u001b[0m 14ms/step - accuracy: 0.9900 - loss: 0.0306\n",
      "Epoch 9/10\n",
      "\u001b[1m1875/1875\u001b[0m \u001b[32m━━━━━━━━━━━━━━━━━━━━\u001b[0m\u001b[37m\u001b[0m \u001b[1m26s\u001b[0m 14ms/step - accuracy: 0.9911 - loss: 0.0294\n",
      "Epoch 10/10\n",
      "\u001b[1m1875/1875\u001b[0m \u001b[32m━━━━━━━━━━━━━━━━━━━━\u001b[0m\u001b[37m\u001b[0m \u001b[1m27s\u001b[0m 14ms/step - accuracy: 0.9912 - loss: 0.0266\n"
     ]
    },
    {
     "data": {
      "text/plain": [
       "<keras.src.callbacks.history.History at 0x1d512297830>"
      ]
     },
     "execution_count": 81,
     "metadata": {},
     "output_type": "execute_result"
    }
   ],
   "source": [
    "# 9. Fit model on training data\n",
    "\n",
    "model.fit(X_train, Y_train, batch_size=32, epochs=10, verbose=1)  # Train the model for 10 epochs with batches of 32 samples; verbose=1 shows progress"
   ]
  },
  {
   "cell_type": "code",
   "execution_count": 83,
   "id": "4f034be5-5e6c-4fdd-8e05-f89a8d2ccfe1",
   "metadata": {},
   "outputs": [
    {
     "name": "stdout",
     "output_type": "stream",
     "text": [
      "313/313 - 2s - 6ms/step - accuracy: 0.9922 - loss: 0.0278\n"
     ]
    }
   ],
   "source": [
    "# 10. Evaluate model on test data\n",
    "\n",
    "score = model.evaluate(X_test, Y_test, verbose=2)  # Evaluate model performance on unseen test data; returns loss and accuracy"
   ]
  },
  {
   "cell_type": "markdown",
   "id": "c83c0711-be3f-4cb3-b1cc-7f256215e8d3",
   "metadata": {},
   "source": [
    "### Evaluation Output Explained:\n",
    "\n",
    "- **313/313**: Number of batches (32 samples each) the model evaluated over the test set  \n",
    "- **2s**: Total time it took to evaluate the test data  \n",
    "- **6ms/step**: Average time per batch  \n",
    "- **accuracy: 0.9922** → **99.22% accuracy** on unseen test data \n",
    "- **loss: 0.0278** → **Very low prediction error**, meaning the model is highly confident and mostly correct"
   ]
  },
  {
   "cell_type": "code",
   "execution_count": 87,
   "id": "bffa4739-10d7-48f0-be98-1b27ad3bc989",
   "metadata": {},
   "outputs": [
    {
     "name": "stdout",
     "output_type": "stream",
     "text": [
      "\u001b[1m1/1\u001b[0m \u001b[32m━━━━━━━━━━━━━━━━━━━━\u001b[0m\u001b[37m\u001b[0m \u001b[1m0s\u001b[0m 98ms/step\n"
     ]
    },
    {
     "data": {
      "text/plain": [
       "array([[1.77658046e-14, 1.11511389e-09, 1.19502498e-12, 1.87821113e-11,\n",
       "        4.94667621e-13, 2.66741094e-14, 1.88277507e-17, 1.00000000e+00,\n",
       "        1.46810068e-13, 2.76416223e-10],\n",
       "       [4.88190322e-11, 2.70992597e-08, 1.00000000e+00, 4.21622887e-13,\n",
       "        3.57382179e-12, 1.41209339e-16, 4.09727985e-09, 3.69835835e-13,\n",
       "        5.80680773e-12, 2.94147305e-16],\n",
       "       [1.07580394e-12, 1.00000000e+00, 4.23722030e-10, 6.07040947e-13,\n",
       "        8.03439626e-09, 7.21588789e-09, 5.58744717e-10, 2.35057351e-09,\n",
       "        4.12125578e-09, 1.94181932e-12],\n",
       "       [9.99991655e-01, 6.77445773e-12, 1.03053885e-08, 4.16092811e-12,\n",
       "        9.32841027e-10, 3.13507137e-11, 8.33642207e-06, 7.02403543e-12,\n",
       "        3.88077598e-10, 9.30371169e-10]], dtype=float32)"
      ]
     },
     "execution_count": 87,
     "metadata": {},
     "output_type": "execute_result"
    }
   ],
   "source": [
    "# Predict the class probabilities for the first 4 images in the test set\n",
    "\n",
    "model.predict(X_test[:4])  # Returns an array of 4 probability distributions (one per digit class)"
   ]
  },
  {
   "cell_type": "markdown",
   "id": "3d213d18-ee14-4c39-92ca-913578592173",
   "metadata": {},
   "source": [
    "##### The highest value is 1.00 at index 7, which means the model predicts this image is a 7 with very high confidence."
   ]
  },
  {
   "cell_type": "code",
   "execution_count": 90,
   "id": "3de2d741-49e2-407a-a0c3-5f792e6975cb",
   "metadata": {},
   "outputs": [
    {
     "name": "stdout",
     "output_type": "stream",
     "text": [
      "\u001b[1m1/1\u001b[0m \u001b[32m━━━━━━━━━━━━━━━━━━━━\u001b[0m\u001b[37m\u001b[0m \u001b[1m0s\u001b[0m 51ms/step\n"
     ]
    },
    {
     "data": {
      "text/plain": [
       "array([1., 1., 1., 1.], dtype=float32)"
      ]
     },
     "execution_count": 90,
     "metadata": {},
     "output_type": "execute_result"
    }
   ],
   "source": [
    "# Predict class probabilities for the first 4 test images\n",
    "# Then sum the probabilities across all 10 digit classes for each image\n",
    "\n",
    "sumarray = np.sum(model.predict(X_test[:4]), axis=1)  # Each row should sum to ~1.0 due to softmax output\n",
    "sumarray  # Display the summed values to verify proper probability normalization"
   ]
  },
  {
   "cell_type": "markdown",
   "id": "eb154fea-a6ba-4128-85a1-3454e06ab686",
   "metadata": {},
   "source": [
    "##### Output confirms that each prediction is a valid probability distribution.\n",
    "##### All rows sum to 1.0 as expected with softmax activation in the final layer."
   ]
  },
  {
   "cell_type": "code",
   "execution_count": 93,
   "id": "3b0d318d-c6a1-4f6b-b2d6-a140e0ab05ae",
   "metadata": {},
   "outputs": [
    {
     "data": {
      "text/plain": [
       "array([7, 2, 1, 0], dtype=uint8)"
      ]
     },
     "execution_count": 93,
     "metadata": {},
     "output_type": "execute_result"
    }
   ],
   "source": [
    "# Actual results (ground truth labels) for the first 4 images in the test set\n",
    "\n",
    "y_test[:4]  # These are the correct digit labels (0–9) before one-hot encoding"
   ]
  },
  {
   "cell_type": "markdown",
   "id": "6eba7695-e6ba-4e05-8623-b048696c0951",
   "metadata": {},
   "source": [
    "The actual digits for the first 4 images in the test set are:\n",
    "\n",
    "- **Image 1 → 7**\n",
    "- **Image 2 → 2**\n",
    "- **Image 3 → 1**\n",
    "- **Image 4 → 0**"
   ]
  },
  {
   "cell_type": "code",
   "execution_count": 96,
   "id": "c4dc3ca3-e8d5-4d74-ba84-395e21c7ed0b",
   "metadata": {},
   "outputs": [
    {
     "name": "stdout",
     "output_type": "stream",
     "text": [
      "\u001b[1m313/313\u001b[0m \u001b[32m━━━━━━━━━━━━━━━━━━━━\u001b[0m\u001b[37m\u001b[0m \u001b[1m1s\u001b[0m 4ms/step\n",
      "[[ 975    1    0    0    0    0    2    1    1    0]\n",
      " [   0 1132    1    1    0    0    1    0    0    0]\n",
      " [   2    1 1023    0    0    0    1    4    1    0]\n",
      " [   0    0    1 1000    0    6    0    1    1    1]\n",
      " [   0    0    1    0  973    0    3    0    3    2]\n",
      " [   1    0    0    3    0  884    3    1    0    0]\n",
      " [   2    2    0    0    1    1  951    0    1    0]\n",
      " [   0    3    5    0    0    0    0 1019    1    0]\n",
      " [   1    0    1    1    0    0    0    1  969    1]\n",
      " [   0    0    0    3    3    1    0    1    5  996]]\n"
     ]
    }
   ],
   "source": [
    "# Predict class probabilities for the entire test set\n",
    "\n",
    "test_predictions = model.predict(X_test)\n",
    "\n",
    "# Create a confusion matrix:\n",
    "# - y_test contains the true labels\n",
    "# - np.argmax(test_predictions, axis=1) gets the predicted class for each image\n",
    "\n",
    "cm = confusion_matrix(y_test, np.argmax(test_predictions, axis=1))\n",
    "\n",
    "# Print the confusion matrix\n",
    "print(cm)"
   ]
  },
  {
   "cell_type": "markdown",
   "id": "3ad30faa-5f39-4785-bfc3-b0e7cc0ffd04",
   "metadata": {},
   "source": [
    "#### Confusion Matrix Interpretation\n",
    "\n",
    "Each row = actual digit (ground truth)  \n",
    "Each column = predicted digit by the model  \n",
    "\n",
    "Diagonal values = correct predictions  \n",
    "Off-diagonal values = misclassifications  \n",
    "\n",
    "#### Example Highlights:\n",
    "- Digit **0**: 975 correctly predicted, a few misclassified as 1, 6, 8, 9\n",
    "- Digit **1**: 1132 correct, very few errors — excellent performance\n",
    "- Digit **2**: 1023 correct, with a couple misclassified as 0, 4\n",
    "- Digit **8**: 969 correct, 5 confused with 5, 1 with 6 — small mix-ups\n",
    "\n",
    "Overall: most predictions are on the diagonal → **very high accuracy**, especially strong on digits 1, 4, 6, 9."
   ]
  },
  {
   "cell_type": "markdown",
   "id": "ed2e342f-8cd5-4537-8334-0fc2cd87f59d",
   "metadata": {},
   "source": [
    "### 3.Loading and Pre-processing Handwritten Data"
   ]
  },
  {
   "cell_type": "code",
   "execution_count": 103,
   "id": "6a2b49d1-9a75-4039-80bc-68ef982bc55c",
   "metadata": {},
   "outputs": [],
   "source": [
    "# Base path to folder containing digit images\n",
    "\n",
    "path = r\"C:\\Users\\wallm\\OneDrive\\Desktop\\01 CareerFoundry & Datafiles\\7.1 - Machine Learning for Analysts - Python\\2.5 Visual Applications of Machine Learning\""
   ]
  },
  {
   "cell_type": "code",
   "execution_count": 137,
   "id": "bce5862d-1b12-4b80-8e54-4ddd73c9fa29",
   "metadata": {},
   "outputs": [
    {
     "name": "stdout",
     "output_type": "stream",
     "text": [
      "PNG\n",
      "(28, 28)\n",
      "L\n"
     ]
    }
   ],
   "source": [
    "# Import the 0 image\n",
    "\n",
    "img0 = Image.open(os.path.join(path, '0.png')) #<--FILL IN THIS VALUE!\n",
    "print(img.format)\n",
    "print(img.size)\n",
    "print(img.mode)"
   ]
  },
  {
   "cell_type": "code",
   "execution_count": 139,
   "id": "56b93f1d-af41-4be8-9f9a-26b4c90d0e87",
   "metadata": {},
   "outputs": [
    {
     "data": {
      "image/jpeg": "[encoded data removed]",
      "image/png": "[encoded data removed]",
      "text/plain": [
       "<PIL.PngImagePlugin.PngImageFile image mode=L size=28x28>"
      ]
     },
     "execution_count": 139,
     "metadata": {},
     "output_type": "execute_result"
    }
   ],
   "source": [
    "img0"
   ]
  },
  {
   "cell_type": "code",
   "execution_count": 119,
   "id": "fe3ce664-6923-478b-9e92-01a8189ed717",
   "metadata": {},
   "outputs": [],
   "source": [
    "testimg = asarray(img0)"
   ]
  },
  {
   "cell_type": "code",
   "execution_count": 121,
   "id": "bc2bc44b-1500-49d4-881e-d4cc941ee20f",
   "metadata": {},
   "outputs": [
    {
     "name": "stdout",
     "output_type": "stream",
     "text": [
      "(28, 28)\n"
     ]
    }
   ],
   "source": [
    "print(testimg.shape)"
   ]
  },
  {
   "cell_type": "code",
   "execution_count": 123,
   "id": "de363f0e-c5cc-4e1a-878a-da071850d126",
   "metadata": {},
   "outputs": [],
   "source": [
    "testimg = testimg.reshape(1, 28, 28, 1)"
   ]
  },
  {
   "cell_type": "code",
   "execution_count": 125,
   "id": "60c228d0-d89c-4afc-af4e-0939c9cc9c30",
   "metadata": {},
   "outputs": [
    {
     "name": "stdout",
     "output_type": "stream",
     "text": [
      "\u001b[1m1/1\u001b[0m \u001b[32m━━━━━━━━━━━━━━━━━━━━\u001b[0m\u001b[37m\u001b[0m \u001b[1m0s\u001b[0m 122ms/step\n",
      "0\n"
     ]
    }
   ],
   "source": [
    "# predict the class\n",
    "\n",
    "predict_value = model.predict(testimg)\n",
    "digit = argmax(predict_value)\n",
    "print(digit)"
   ]
  },
  {
   "cell_type": "markdown",
   "id": "e5d0f237-0add-49a7-a53d-ea18548d3d62",
   "metadata": {},
   "source": [
    "##### Correctly predicted a 0"
   ]
  },
  {
   "cell_type": "code",
   "execution_count": 167,
   "id": "5ad10991-fee3-4066-b0df-a9b316ae81f3",
   "metadata": {},
   "outputs": [
    {
     "name": "stdout",
     "output_type": "stream",
     "text": [
      "PNG\n",
      "(28, 28)\n",
      "L\n"
     ]
    }
   ],
   "source": [
    "# Import the 1 image\n",
    "\n",
    "img1 = Image.open(os.path.join(path, '1.png')) #<--FILL IN THIS VALUE!\n",
    "print(img.format)\n",
    "print(img.size)\n",
    "print(img.mode)"
   ]
  },
  {
   "cell_type": "code",
   "execution_count": 169,
   "id": "21099e8f-30be-4856-9c1d-7a371cfc8a13",
   "metadata": {},
   "outputs": [
    {
     "data": {
      "image/jpeg": "[encoded data removed]",
      "image/png": "[encoded data removed]",
      "text/plain": [
       "<PIL.PngImagePlugin.PngImageFile image mode=L size=28x28>"
      ]
     },
     "execution_count": 169,
     "metadata": {},
     "output_type": "execute_result"
    }
   ],
   "source": [
    "img1"
   ]
  },
  {
   "cell_type": "code",
   "execution_count": 149,
   "id": "4fef8e7a-8577-4acb-8cf2-46aafbd0cd6c",
   "metadata": {},
   "outputs": [],
   "source": [
    "testimg = asarray(img1)"
   ]
  },
  {
   "cell_type": "code",
   "execution_count": 151,
   "id": "7c540c7a-c0e6-4bc7-b53e-d7a00e988377",
   "metadata": {},
   "outputs": [
    {
     "name": "stdout",
     "output_type": "stream",
     "text": [
      "(28, 28)\n"
     ]
    }
   ],
   "source": [
    "print(testimg.shape)"
   ]
  },
  {
   "cell_type": "code",
   "execution_count": 153,
   "id": "67c273ce-841d-48e9-a711-ae1a840c3352",
   "metadata": {},
   "outputs": [],
   "source": [
    "testimg = testimg.reshape(1, 28, 28, 1)"
   ]
  },
  {
   "cell_type": "code",
   "execution_count": 155,
   "id": "2ab4907b-d05f-489d-a4b0-8d8cde33c557",
   "metadata": {},
   "outputs": [
    {
     "name": "stdout",
     "output_type": "stream",
     "text": [
      "\u001b[1m1/1\u001b[0m \u001b[32m━━━━━━━━━━━━━━━━━━━━\u001b[0m\u001b[37m\u001b[0m \u001b[1m0s\u001b[0m 47ms/step\n",
      "7\n"
     ]
    }
   ],
   "source": [
    "# predict the class\n",
    "\n",
    "predict_value = model.predict(testimg)\n",
    "digit = argmax(predict_value)\n",
    "print(digit)"
   ]
  },
  {
   "cell_type": "markdown",
   "id": "4eb6baab-547e-4a2e-8f86-df46c20142fe",
   "metadata": {},
   "source": [
    "##### Incorrectly predicted a 7 instead of 1 - albeit my 1s do look a bit like 7s :-)"
   ]
  },
  {
   "cell_type": "code",
   "execution_count": 163,
   "id": "5628df92-de8b-416d-8da2-cb320e025cdf",
   "metadata": {},
   "outputs": [
    {
     "name": "stdout",
     "output_type": "stream",
     "text": [
      "PNG\n",
      "(28, 28)\n",
      "L\n"
     ]
    }
   ],
   "source": [
    "# Import the 2 image\n",
    "\n",
    "img2 = Image.open(os.path.join(path, '2.png')) #<--FILL IN THIS VALUE!\n",
    "print(img.format)\n",
    "print(img.size)\n",
    "print(img.mode)"
   ]
  },
  {
   "cell_type": "code",
   "execution_count": 165,
   "id": "ceaff27a-035a-4c5c-bdd9-63f2b88fc4fe",
   "metadata": {},
   "outputs": [
    {
     "data": {
      "image/jpeg": "[encoded data removed]",
      "image/png": "[encoded data removed]",
      "text/plain": [
       "<PIL.PngImagePlugin.PngImageFile image mode=L size=28x28>"
      ]
     },
     "execution_count": 165,
     "metadata": {},
     "output_type": "execute_result"
    }
   ],
   "source": [
    "img2"
   ]
  },
  {
   "cell_type": "code",
   "execution_count": 171,
   "id": "df734648-4845-4f82-82c5-da77b1838bf0",
   "metadata": {},
   "outputs": [],
   "source": [
    "testimg = asarray(img2)"
   ]
  },
  {
   "cell_type": "code",
   "execution_count": 173,
   "id": "b1e18f2b-846e-41ae-b4b5-5e4bdd3bf464",
   "metadata": {},
   "outputs": [
    {
     "name": "stdout",
     "output_type": "stream",
     "text": [
      "(28, 28)\n"
     ]
    }
   ],
   "source": [
    "print(testimg.shape)"
   ]
  },
  {
   "cell_type": "code",
   "execution_count": 175,
   "id": "40c13204-3f5a-489d-92f9-0d5d1b5772e1",
   "metadata": {},
   "outputs": [],
   "source": [
    "testimg = testimg.reshape(1, 28, 28, 1)"
   ]
  },
  {
   "cell_type": "code",
   "execution_count": 177,
   "id": "3c2ab7ab-4c89-4be8-8205-c5e31f157720",
   "metadata": {},
   "outputs": [
    {
     "name": "stdout",
     "output_type": "stream",
     "text": [
      "\u001b[1m1/1\u001b[0m \u001b[32m━━━━━━━━━━━━━━━━━━━━\u001b[0m\u001b[37m\u001b[0m \u001b[1m0s\u001b[0m 37ms/step\n",
      "2\n"
     ]
    }
   ],
   "source": [
    "# predict the class\n",
    "\n",
    "predict_value = model.predict(testimg)\n",
    "digit = argmax(predict_value)\n",
    "print(digit)"
   ]
  },
  {
   "cell_type": "markdown",
   "id": "09b967f5-6e34-4dfe-bde1-391084148491",
   "metadata": {},
   "source": [
    "##### Correctly predicted a 2"
   ]
  },
  {
   "cell_type": "code",
   "execution_count": 180,
   "id": "90ac9235-a3aa-424c-9ba9-ff94b8b1fa59",
   "metadata": {},
   "outputs": [
    {
     "name": "stdout",
     "output_type": "stream",
     "text": [
      "PNG\n",
      "(28, 28)\n",
      "L\n"
     ]
    }
   ],
   "source": [
    "# Import the 3 image\n",
    "\n",
    "img3 = Image.open(os.path.join(path, '3.png')) #<--FILL IN THIS VALUE!\n",
    "print(img.format)\n",
    "print(img.size)\n",
    "print(img.mode)"
   ]
  },
  {
   "cell_type": "code",
   "execution_count": 182,
   "id": "7535fe49-4e6e-41b3-be6c-c16a5695efb1",
   "metadata": {},
   "outputs": [
    {
     "data": {
      "image/jpeg": "[encoded data removed]",
      "image/png": "[encoded data removed]",
      "text/plain": [
       "<PIL.PngImagePlugin.PngImageFile image mode=L size=28x28>"
      ]
     },
     "execution_count": 182,
     "metadata": {},
     "output_type": "execute_result"
    }
   ],
   "source": [
    "img3"
   ]
  },
  {
   "cell_type": "code",
   "execution_count": 184,
   "id": "e1493bb3-f28c-4626-9ceb-c90e193df421",
   "metadata": {},
   "outputs": [],
   "source": [
    "testimg = asarray(img3)"
   ]
  },
  {
   "cell_type": "code",
   "execution_count": 186,
   "id": "b19b3990-fc40-41b4-a153-418882edc944",
   "metadata": {},
   "outputs": [
    {
     "name": "stdout",
     "output_type": "stream",
     "text": [
      "(28, 28)\n"
     ]
    }
   ],
   "source": [
    "print(testimg.shape)"
   ]
  },
  {
   "cell_type": "code",
   "execution_count": 188,
   "id": "741c7ae9-2740-417d-b227-50fda7da5c85",
   "metadata": {},
   "outputs": [],
   "source": [
    "testimg = testimg.reshape(1, 28, 28, 1)"
   ]
  },
  {
   "cell_type": "code",
   "execution_count": 190,
   "id": "89a8b15c-87e4-4df8-b6b2-2fd89a898379",
   "metadata": {},
   "outputs": [
    {
     "name": "stdout",
     "output_type": "stream",
     "text": [
      "\u001b[1m1/1\u001b[0m \u001b[32m━━━━━━━━━━━━━━━━━━━━\u001b[0m\u001b[37m\u001b[0m \u001b[1m0s\u001b[0m 54ms/step\n",
      "3\n"
     ]
    }
   ],
   "source": [
    "# predict the class\n",
    "\n",
    "predict_value = model.predict(testimg)\n",
    "digit = argmax(predict_value)\n",
    "print(digit)"
   ]
  },
  {
   "cell_type": "markdown",
   "id": "5497a982-ea4b-4923-a79b-6e779b7da117",
   "metadata": {},
   "source": [
    "##### Correctly predicted a 3"
   ]
  },
  {
   "cell_type": "code",
   "execution_count": 194,
   "id": "f63a5bde-b84d-4e6b-a91c-717946f8a5da",
   "metadata": {},
   "outputs": [
    {
     "name": "stdout",
     "output_type": "stream",
     "text": [
      "PNG\n",
      "(28, 28)\n",
      "L\n"
     ]
    }
   ],
   "source": [
    "# Import the 4 image\n",
    "\n",
    "img4 = Image.open(os.path.join(path, '4.png')) #<--FILL IN THIS VALUE!\n",
    "print(img.format)\n",
    "print(img.size)\n",
    "print(img.mode)"
   ]
  },
  {
   "cell_type": "code",
   "execution_count": 196,
   "id": "ba4327ac-4803-407c-b60f-a6b2b3db49bf",
   "metadata": {},
   "outputs": [
    {
     "data": {
      "image/jpeg": "[encoded data removed]",
      "image/png": "[encoded data removed]",
      "text/plain": [
       "<PIL.PngImagePlugin.PngImageFile image mode=L size=28x28>"
      ]
     },
     "execution_count": 196,
     "metadata": {},
     "output_type": "execute_result"
    }
   ],
   "source": [
    "img4"
   ]
  },
  {
   "cell_type": "code",
   "execution_count": 198,
   "id": "3ab191e1-f91e-489d-bed3-10e80724bdb9",
   "metadata": {},
   "outputs": [],
   "source": [
    "testimg = asarray(img4)"
   ]
  },
  {
   "cell_type": "code",
   "execution_count": 200,
   "id": "37275382-d0f5-4d48-9390-148e2e7c6f92",
   "metadata": {},
   "outputs": [
    {
     "name": "stdout",
     "output_type": "stream",
     "text": [
      "(28, 28)\n"
     ]
    }
   ],
   "source": [
    "print(testimg.shape)"
   ]
  },
  {
   "cell_type": "code",
   "execution_count": 202,
   "id": "130468c7-5ed8-4124-a266-b3f2c43d8871",
   "metadata": {},
   "outputs": [],
   "source": [
    "testimg = testimg.reshape(1, 28, 28, 1)"
   ]
  },
  {
   "cell_type": "code",
   "execution_count": 204,
   "id": "5d73ecda-924a-4f18-969c-dd490cf27e32",
   "metadata": {},
   "outputs": [
    {
     "name": "stdout",
     "output_type": "stream",
     "text": [
      "\u001b[1m1/1\u001b[0m \u001b[32m━━━━━━━━━━━━━━━━━━━━\u001b[0m\u001b[37m\u001b[0m \u001b[1m0s\u001b[0m 37ms/step\n",
      "4\n"
     ]
    }
   ],
   "source": [
    "# predict the class\n",
    "\n",
    "predict_value = model.predict(testimg)\n",
    "digit = argmax(predict_value)\n",
    "print(digit)"
   ]
  },
  {
   "cell_type": "markdown",
   "id": "fde25796-c523-4eae-b5cd-0f983716a8eb",
   "metadata": {},
   "source": [
    "##### Correctly predicted a 4"
   ]
  },
  {
   "cell_type": "code",
   "execution_count": 208,
   "id": "932b12a3-a805-40e9-9f41-697234af86a6",
   "metadata": {},
   "outputs": [
    {
     "name": "stdout",
     "output_type": "stream",
     "text": [
      "PNG\n",
      "(28, 28)\n",
      "L\n"
     ]
    }
   ],
   "source": [
    "# Import the 5 image\n",
    "\n",
    "img5 = Image.open(os.path.join(path, '5.png')) #<--FILL IN THIS VALUE!\n",
    "print(img.format)\n",
    "print(img.size)\n",
    "print(img.mode)"
   ]
  },
  {
   "cell_type": "code",
   "execution_count": 210,
   "id": "e661007e-5aef-479f-926e-adf7bd7e5da7",
   "metadata": {},
   "outputs": [
    {
     "data": {
      "image/jpeg": "[encoded data removed]",
      "image/png": "[encoded data removed]",
      "text/plain": [
       "<PIL.PngImagePlugin.PngImageFile image mode=L size=28x28>"
      ]
     },
     "execution_count": 210,
     "metadata": {},
     "output_type": "execute_result"
    }
   ],
   "source": [
    "img5"
   ]
  },
  {
   "cell_type": "code",
   "execution_count": 212,
   "id": "fed1bb20-33c6-4006-b45e-d110ff8c1642",
   "metadata": {},
   "outputs": [],
   "source": [
    "testimg = asarray(img5)"
   ]
  },
  {
   "cell_type": "code",
   "execution_count": 215,
   "id": "f0b05749-9f35-4a04-b781-6876e94e8479",
   "metadata": {},
   "outputs": [
    {
     "name": "stdout",
     "output_type": "stream",
     "text": [
      "(28, 28)\n"
     ]
    }
   ],
   "source": [
    "print(testimg.shape)"
   ]
  },
  {
   "cell_type": "code",
   "execution_count": 217,
   "id": "06bc2a63-1594-48fc-97a9-1240cc7badc8",
   "metadata": {},
   "outputs": [],
   "source": [
    "testimg = testimg.reshape(1, 28, 28, 1)"
   ]
  },
  {
   "cell_type": "code",
   "execution_count": 219,
   "id": "70104c36-58c8-4641-ac3e-55a36b73a10d",
   "metadata": {},
   "outputs": [
    {
     "name": "stdout",
     "output_type": "stream",
     "text": [
      "\u001b[1m1/1\u001b[0m \u001b[32m━━━━━━━━━━━━━━━━━━━━\u001b[0m\u001b[37m\u001b[0m \u001b[1m0s\u001b[0m 41ms/step\n",
      "8\n"
     ]
    }
   ],
   "source": [
    "# predict the class\n",
    "\n",
    "predict_value = model.predict(testimg)\n",
    "digit = argmax(predict_value)\n",
    "print(digit)"
   ]
  },
  {
   "cell_type": "markdown",
   "id": "c79bdc11-9610-4b79-b178-2ce567a79b78",
   "metadata": {},
   "source": [
    "##### Incorrectly predicted an 8 instead of 5 - Interesting"
   ]
  },
  {
   "cell_type": "code",
   "execution_count": 223,
   "id": "be32b3f5-03fa-41c9-ada4-52f91e30704b",
   "metadata": {},
   "outputs": [
    {
     "name": "stdout",
     "output_type": "stream",
     "text": [
      "PNG\n",
      "(28, 28)\n",
      "L\n"
     ]
    }
   ],
   "source": [
    "# Import the 6 image\n",
    "\n",
    "img6 = Image.open(os.path.join(path, '6.png')) #<--FILL IN THIS VALUE!\n",
    "print(img.format)\n",
    "print(img.size)\n",
    "print(img.mode)"
   ]
  },
  {
   "cell_type": "code",
   "execution_count": 225,
   "id": "0c7ba4c5-5878-4ce8-95c0-52ac10688db4",
   "metadata": {},
   "outputs": [
    {
     "data": {
      "image/jpeg": "[encoded data removed]",
      "image/png": "[encoded data removed]",
      "text/plain": [
       "<PIL.PngImagePlugin.PngImageFile image mode=L size=28x28>"
      ]
     },
     "execution_count": 225,
     "metadata": {},
     "output_type": "execute_result"
    }
   ],
   "source": [
    "img6"
   ]
  },
  {
   "cell_type": "code",
   "execution_count": 227,
   "id": "a3edb83a-43fe-42a6-8758-fc869f17bd34",
   "metadata": {},
   "outputs": [],
   "source": [
    "testimg = asarray(img6)"
   ]
  },
  {
   "cell_type": "code",
   "execution_count": 229,
   "id": "d752a9f1-78dc-4b85-8607-5cd435b568f0",
   "metadata": {},
   "outputs": [
    {
     "name": "stdout",
     "output_type": "stream",
     "text": [
      "(28, 28)\n"
     ]
    }
   ],
   "source": [
    "print(testimg.shape)"
   ]
  },
  {
   "cell_type": "code",
   "execution_count": 231,
   "id": "5aaff507-b536-445b-9926-df5ca57af98b",
   "metadata": {},
   "outputs": [],
   "source": [
    "testimg = testimg.reshape(1, 28, 28, 1)"
   ]
  },
  {
   "cell_type": "code",
   "execution_count": 233,
   "id": "029277e1-a149-4df2-b303-024c4e1c202f",
   "metadata": {},
   "outputs": [
    {
     "name": "stdout",
     "output_type": "stream",
     "text": [
      "\u001b[1m1/1\u001b[0m \u001b[32m━━━━━━━━━━━━━━━━━━━━\u001b[0m\u001b[37m\u001b[0m \u001b[1m0s\u001b[0m 46ms/step\n",
      "3\n"
     ]
    }
   ],
   "source": [
    "# predict the class\n",
    "\n",
    "predict_value = model.predict(testimg)\n",
    "digit = argmax(predict_value)\n",
    "print(digit)"
   ]
  },
  {
   "cell_type": "markdown",
   "id": "456ddcc6-1fc3-4167-accd-1f6f93634172",
   "metadata": {},
   "source": [
    "##### Incorrectly predicted an 3 instead of 6!"
   ]
  },
  {
   "cell_type": "code",
   "execution_count": 239,
   "id": "9c823ddb-df67-4403-8174-bd191f946f3e",
   "metadata": {},
   "outputs": [
    {
     "name": "stdout",
     "output_type": "stream",
     "text": [
      "PNG\n",
      "(28, 28)\n",
      "L\n"
     ]
    }
   ],
   "source": [
    "# Import the 7 image\n",
    "\n",
    "img7 = Image.open(os.path.join(path, '7.png')) #<--FILL IN THIS VALUE!\n",
    "print(img.format)\n",
    "print(img.size)\n",
    "print(img.mode)"
   ]
  },
  {
   "cell_type": "code",
   "execution_count": 241,
   "id": "99e54bb2-3d6c-4c0e-835f-02d6c071f0eb",
   "metadata": {},
   "outputs": [
    {
     "data": {
      "image/jpeg": "[encoded data removed]",
      "image/png": "[encoded data removed]",
      "text/plain": [
       "<PIL.PngImagePlugin.PngImageFile image mode=L size=28x28>"
      ]
     },
     "execution_count": 241,
     "metadata": {},
     "output_type": "execute_result"
    }
   ],
   "source": [
    "img7"
   ]
  },
  {
   "cell_type": "code",
   "execution_count": 243,
   "id": "9893fe32-0331-4d94-8d36-0858709fe0b2",
   "metadata": {},
   "outputs": [],
   "source": [
    "testimg = asarray(img7)"
   ]
  },
  {
   "cell_type": "code",
   "execution_count": 245,
   "id": "279b0d78-10cb-4444-9de6-df0cbf1bfbb8",
   "metadata": {},
   "outputs": [
    {
     "name": "stdout",
     "output_type": "stream",
     "text": [
      "(28, 28)\n"
     ]
    }
   ],
   "source": [
    "print(testimg.shape)"
   ]
  },
  {
   "cell_type": "code",
   "execution_count": 247,
   "id": "0c524605-4223-422a-8d4f-ee207716d374",
   "metadata": {},
   "outputs": [],
   "source": [
    "testimg = testimg.reshape(1, 28, 28, 1)"
   ]
  },
  {
   "cell_type": "code",
   "execution_count": 249,
   "id": "0ee64f25-dadb-481a-a762-d95fd92f5b66",
   "metadata": {},
   "outputs": [
    {
     "name": "stdout",
     "output_type": "stream",
     "text": [
      "\u001b[1m1/1\u001b[0m \u001b[32m━━━━━━━━━━━━━━━━━━━━\u001b[0m\u001b[37m\u001b[0m \u001b[1m0s\u001b[0m 39ms/step\n",
      "2\n"
     ]
    }
   ],
   "source": [
    "# predict the class\n",
    "\n",
    "predict_value = model.predict(testimg)\n",
    "digit = argmax(predict_value)\n",
    "print(digit)"
   ]
  },
  {
   "cell_type": "markdown",
   "id": "76f30e9c-31c7-4d0a-9c8e-f4c32f3470ae",
   "metadata": {},
   "source": [
    "##### Incorrectly predicted an 2 instead of 7!!!"
   ]
  },
  {
   "cell_type": "code",
   "execution_count": 255,
   "id": "40cb5364-0133-4738-b1a8-7b62dbabc6a0",
   "metadata": {},
   "outputs": [
    {
     "name": "stdout",
     "output_type": "stream",
     "text": [
      "PNG\n",
      "(28, 28)\n",
      "L\n"
     ]
    }
   ],
   "source": [
    "# Import the 8 image\n",
    "\n",
    "img8 = Image.open(os.path.join(path, '8.png')) #<--FILL IN THIS VALUE!\n",
    "print(img.format)\n",
    "print(img.size)\n",
    "print(img.mode)"
   ]
  },
  {
   "cell_type": "code",
   "execution_count": 257,
   "id": "ec19f7e5-7ef5-4b05-8d39-ee332bde5a66",
   "metadata": {},
   "outputs": [
    {
     "data": {
      "image/jpeg": "[encoded data removed]",
      "image/png": "[encoded data removed]",
      "text/plain": [
       "<PIL.PngImagePlugin.PngImageFile image mode=L size=28x28>"
      ]
     },
     "execution_count": 257,
     "metadata": {},
     "output_type": "execute_result"
    }
   ],
   "source": [
    "img8"
   ]
  },
  {
   "cell_type": "code",
   "execution_count": 259,
   "id": "92ebe3d5-bce3-4aef-b3de-e55ef3890298",
   "metadata": {},
   "outputs": [],
   "source": [
    "testimg = asarray(img8)"
   ]
  },
  {
   "cell_type": "code",
   "execution_count": 261,
   "id": "c01996dc-5108-4091-8dfb-24c22cabaee7",
   "metadata": {},
   "outputs": [
    {
     "name": "stdout",
     "output_type": "stream",
     "text": [
      "(28, 28)\n"
     ]
    }
   ],
   "source": [
    "print(testimg.shape)"
   ]
  },
  {
   "cell_type": "code",
   "execution_count": 263,
   "id": "b892646d-0062-4ef4-b6a1-cc0bfbb86901",
   "metadata": {},
   "outputs": [],
   "source": [
    "testimg = testimg.reshape(1, 28, 28, 1)"
   ]
  },
  {
   "cell_type": "code",
   "execution_count": 265,
   "id": "e37335ed-6c2e-4b68-bf8a-9fee286ad6e1",
   "metadata": {},
   "outputs": [
    {
     "name": "stdout",
     "output_type": "stream",
     "text": [
      "\u001b[1m1/1\u001b[0m \u001b[32m━━━━━━━━━━━━━━━━━━━━\u001b[0m\u001b[37m\u001b[0m \u001b[1m0s\u001b[0m 38ms/step\n",
      "8\n"
     ]
    }
   ],
   "source": [
    "# predict the class\n",
    "\n",
    "predict_value = model.predict(testimg)\n",
    "digit = argmax(predict_value)\n",
    "print(digit)"
   ]
  },
  {
   "cell_type": "markdown",
   "id": "f97e0d60-5b59-44d1-bc89-b1638100a54c",
   "metadata": {},
   "source": [
    "##### Correctly predicted a 8"
   ]
  },
  {
   "cell_type": "code",
   "execution_count": 271,
   "id": "2048f8eb-f3b4-4f62-9e08-5097867c9e99",
   "metadata": {},
   "outputs": [
    {
     "name": "stdout",
     "output_type": "stream",
     "text": [
      "PNG\n",
      "(28, 28)\n",
      "L\n"
     ]
    }
   ],
   "source": [
    "# Import the 9 image\n",
    "\n",
    "img9 = Image.open(os.path.join(path, '9.png')) #<--FILL IN THIS VALUE!\n",
    "print(img.format)\n",
    "print(img.size)\n",
    "print(img.mode)"
   ]
  },
  {
   "cell_type": "code",
   "execution_count": 273,
   "id": "2b06f5e5-6ae5-45c6-9ecc-e6571bfc42a9",
   "metadata": {},
   "outputs": [
    {
     "data": {
      "image/jpeg": "[encoded data removed]",
      "image/png": "[encoded data removed]",
      "text/plain": [
       "<PIL.PngImagePlugin.PngImageFile image mode=L size=28x28>"
      ]
     },
     "execution_count": 273,
     "metadata": {},
     "output_type": "execute_result"
    }
   ],
   "source": [
    "img9"
   ]
  },
  {
   "cell_type": "code",
   "execution_count": 277,
   "id": "e185666d-ece9-4083-9003-0074e67bc25d",
   "metadata": {},
   "outputs": [],
   "source": [
    "testimg = asarray(img9)"
   ]
  },
  {
   "cell_type": "code",
   "execution_count": 279,
   "id": "673b876d-3fdd-4c65-99f5-cd61c1c26825",
   "metadata": {},
   "outputs": [
    {
     "name": "stdout",
     "output_type": "stream",
     "text": [
      "(28, 28)\n"
     ]
    }
   ],
   "source": [
    "print(testimg.shape)"
   ]
  },
  {
   "cell_type": "code",
   "execution_count": 281,
   "id": "b68afcc7-454f-4c6c-942a-669f2a3bef9f",
   "metadata": {},
   "outputs": [],
   "source": [
    "testimg = testimg.reshape(1, 28, 28, 1)"
   ]
  },
  {
   "cell_type": "code",
   "execution_count": 283,
   "id": "bef736d0-498f-4309-9e8b-f94983004b91",
   "metadata": {},
   "outputs": [
    {
     "name": "stdout",
     "output_type": "stream",
     "text": [
      "\u001b[1m1/1\u001b[0m \u001b[32m━━━━━━━━━━━━━━━━━━━━\u001b[0m\u001b[37m\u001b[0m \u001b[1m0s\u001b[0m 58ms/step\n",
      "7\n"
     ]
    }
   ],
   "source": [
    "# predict the class\n",
    "\n",
    "predict_value = model.predict(testimg)\n",
    "digit = argmax(predict_value)\n",
    "print(digit)"
   ]
  },
  {
   "cell_type": "markdown",
   "id": "49e49acf-edc8-4887-96a0-65912602236c",
   "metadata": {},
   "source": [
    "##### Incorrectly predicted an 7 instead of 9!!!"
   ]
  },
  {
   "cell_type": "markdown",
   "id": "8156d715-a147-4701-9ba6-7d1b54ca1888",
   "metadata": {},
   "source": [
    "### Final Results Summary\n",
    "\n",
    "**Results were:**\n",
    "\n",
    "- Correctly recognised: `0`, `2`, `3`, `4`, `8`  = 50% success rate\n",
    "- Incorrect predictions:\n",
    "  - `1` → **7**\n",
    "  - `5` → **8**\n",
    "  - `6` → **3**\n",
    "  - `7` → **2**\n",
    "  - `9` → **7**\n",
    "\n",
    "**Conclusion:**  \n",
    "These results might say something about ** the model's training**!  \n",
    "Either way, it's a great reminder that even high-performing models can struggle with human variation. "
   ]
  },
  {
   "cell_type": "code",
   "execution_count": null,
   "id": "42b9f967-6869-49b4-96ee-2f88f574b150",
   "metadata": {},
   "outputs": [],
   "source": []
  }
 ],
 "metadata": {
  "kernelspec": {
   "display_name": "Python 3 (ipykernel)",
   "language": "python",
   "name": "python3"
  },
  "language_info": {
   "codemirror_mode": {
    "name": "ipython",
    "version": 3
   },
   "file_extension": ".py",
   "mimetype": "text/x-python",
   "name": "python",
   "nbconvert_exporter": "python",
   "pygments_lexer": "ipython3",
   "version": "3.12.3"
  }
 },
 "nbformat": 4,
 "nbformat_minor": 5
}
